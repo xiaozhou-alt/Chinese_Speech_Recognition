{
 "cells": [
  {
   "cell_type": "code",
   "execution_count": 1,
   "metadata": {},
   "outputs": [
    {
     "name": "stdout",
     "output_type": "stream",
     "text": [
      "最长音频文件: D32_980.wav, 时长: 16.31秒\n"
     ]
    },
    {
     "data": {
      "image/png": "[encoded data removed]",
      "text/plain": [
       "<Figure size 864x432 with 1 Axes>"
      ]
     },
     "metadata": {
      "needs_background": "light"
     },
     "output_type": "display_data"
    }
   ],
   "source": [
    "import os\n",
    "import wave\n",
    "import matplotlib.pyplot as plt\n",
    "from matplotlib import font_manager\n",
    "\n",
    "# 设置中文字体\n",
    "font_path = 'C:/Windows/Fonts/simhei.ttf'  # Windows系统常见中文字体路径\n",
    "font_prop = font_manager.FontProperties(fname=font_path)\n",
    "\n",
    "# 获取所有wav文件路径\n",
    "def get_wav_files(folder):\n",
    "    wav_files = []\n",
    "    for root, dirs, files in os.walk(folder):\n",
    "        for file in files:\n",
    "            if file.lower().endswith('.wav'):\n",
    "                wav_files.append(os.path.join(root, file))\n",
    "    return wav_files\n",
    "\n",
    "# 计算wav文件时长\n",
    "def get_wav_duration(file_path):\n",
    "    with wave.open(file_path, 'rb') as wav_file:\n",
    "        frames = wav_file.getnframes()\n",
    "        rate = wav_file.getframerate()\n",
    "        duration = frames / float(rate)\n",
    "        return duration\n",
    "\n",
    "# 主函数\n",
    "def main():\n",
    "    folder = 'h:\\\\project\\\\sound\\\\data_thchs30\\\\data'  # 你的wav文件所在目录\n",
    "    wav_files = get_wav_files(folder)\n",
    "    \n",
    "    # 计算所有文件时长\n",
    "    durations = []\n",
    "    for file in wav_files:\n",
    "        duration = get_wav_duration(file)\n",
    "        durations.append(duration)\n",
    "    \n",
    "    # 找出最长时长\n",
    "    max_duration = max(durations)\n",
    "    max_index = durations.index(max_duration)\n",
    "    max_file = os.path.basename(wav_files[max_index])\n",
    "    \n",
    "    print(f'最长音频文件: {max_file}, 时长: {max_duration:.2f}秒')\n",
    "    \n",
    "    # 绘制柱状图\n",
    "    plt.figure(figsize=(12, 6))\n",
    "    plt.bar(range(len(durations)), durations)\n",
    "    plt.title('音频文件时长分布', fontproperties=font_prop)\n",
    "    plt.xlabel('文件索引', fontproperties=font_prop)\n",
    "    plt.ylabel('时长(秒)', fontproperties=font_prop)\n",
    "    \n",
    "    # 标注最长时长\n",
    "    plt.axhline(y=max_duration, color='r', linestyle='--')\n",
    "    plt.text(len(durations)*0.7, max_duration*1.05, \n",
    "             f'最长时长: {max_duration:.2f}秒', \n",
    "             fontproperties=font_prop, color='red')\n",
    "    \n",
    "    plt.tight_layout()\n",
    "    plt.show()\n",
    "\n",
    "if __name__ == '__main__':\n",
    "    main()"
   ]
  },
  {
   "cell_type": "code",
   "execution_count": 2,
   "metadata": {},
   "outputs": [
    {
     "data": {
      "image/png": "[encoded data removed]",
      "text/plain": [
       "<Figure size 864x432 with 2 Axes>"
      ]
     },
     "metadata": {
      "needs_background": "light"
     },
     "output_type": "display_data"
    }
   ],
   "source": [
    "import matplotlib.pyplot as plt\n",
    "from matplotlib import font_manager\n",
    "\n",
    "# 设置中文字体\n",
    "font_path = 'C:/Windows/Fonts/simhei.ttf'\n",
    "font_prop = font_manager.FontProperties(fname=font_path)\n",
    "\n",
    "# 读取文件并统计长度\n",
    "def analyze_file(file_path):\n",
    "    with open(file_path, 'r', encoding='utf-8') as f:\n",
    "        lines = f.readlines()\n",
    "    \n",
    "    en_lengths = []\n",
    "    cn_lengths = []\n",
    "    \n",
    "    for line in lines:\n",
    "        en, cn = line.strip().split('\\t')  # 假设数据是英文\\t中文格式\n",
    "        en_lengths.append(len(en.split()))\n",
    "        cn_lengths.append(len(cn))\n",
    "    \n",
    "    return en_lengths, cn_lengths\n",
    "\n",
    "# 绘制双柱状图\n",
    "def plot_comparison(en_lengths, cn_lengths):\n",
    "    plt.figure(figsize=(12, 6))\n",
    "    \n",
    "    # 英文词数分布\n",
    "    plt.subplot(1, 2, 1)\n",
    "    plt.hist(en_lengths, bins=30, color='skyblue')\n",
    "    plt.title('英文词数分布', fontproperties=font_prop)\n",
    "    plt.xlabel('词数', fontproperties=font_prop)\n",
    "    plt.ylabel('频数', fontproperties=font_prop)\n",
    "    \n",
    "    # 中文字数分布\n",
    "    plt.subplot(1, 2, 2)\n",
    "    plt.hist(cn_lengths, bins=30, color='salmon')\n",
    "    plt.title('中文字数分布', fontproperties=font_prop)\n",
    "    plt.xlabel('字数', fontproperties=font_prop)\n",
    "    plt.ylabel('频数', fontproperties=font_prop)\n",
    "    \n",
    "    plt.tight_layout()\n",
    "    plt.show()\n",
    "\n",
    "if __name__ == '__main__':\n",
    "    file_path = 'h:\\\\project\\\\sound\\\\data\\\\en-cn\\\\cmn.txt'  # 修改为你的文件路径\n",
    "    en_lengths, cn_lengths = analyze_file(file_path)\n",
    "    plot_comparison(en_lengths, cn_lengths)"
   ]
  },
  {
   "cell_type": "code",
   "execution_count": 3,
   "metadata": {},
   "outputs": [
    {
     "name": "stdout",
     "output_type": "stream",
     "text": [
      "Looking in indexes: https://mirrors.ustc.edu.cn/pypi/web/simple\n",
      "Collecting zhconv\n",
      "  Downloading https://mirrors.ustc.edu.cn/pypi/packages/25/47/c8ae2d5d4025e253211ff3d8c163f457db1da94976cb582337a5ab76cb87/zhconv-1.4.3.tar.gz (211 kB)\n",
      "     -------------------------------------- 211.6/211.6 kB 1.3 MB/s eta 0:00:00\n",
      "  Preparing metadata (setup.py): started\n",
      "  Preparing metadata (setup.py): finished with status 'done'\n",
      "Building wheels for collected packages: zhconv\n",
      "  Building wheel for zhconv (setup.py): started\n",
      "  Building wheel for zhconv (setup.py): finished with status 'done'\n",
      "  Created wheel for zhconv: filename=zhconv-1.4.3-py2.py3-none-any.whl size=208868 sha256=25fd64d425822205f50e3f9bb28c716f52c2a85a8ac6b9188c5844593cf41066\n",
      "  Stored in directory: c:\\users\\administrator\\appdata\\local\\pip\\cache\\wheels\\62\\eb\\55\\160a0c36f9d7a6df908092754d4ceef4531ef4f41d0002b0e0\n",
      "Successfully built zhconv\n",
      "Installing collected packages: zhconv\n",
      "Successfully installed zhconv-1.4.3\n"
     ]
    },
    {
     "name": "stderr",
     "output_type": "stream",
     "text": [
      "WARNING: Ignoring invalid distribution -cikit-learn (c:\\programdata\\anaconda3\\lib\\site-packages)\n",
      "WARNING: Ignoring invalid distribution -okenizers (c:\\programdata\\anaconda3\\lib\\site-packages)\n",
      "WARNING: Ignoring invalid distribution -qdm (c:\\programdata\\anaconda3\\lib\\site-packages)\n",
      "WARNING: Ignoring invalid distribution -ryptography (c:\\programdata\\anaconda3\\lib\\site-packages)\n",
      "WARNING: Ignoring invalid distribution -sgpack (c:\\programdata\\anaconda3\\lib\\site-packages)\n",
      "WARNING: Ignoring invalid distribution -cikit-learn (c:\\programdata\\anaconda3\\lib\\site-packages)\n",
      "WARNING: Ignoring invalid distribution -okenizers (c:\\programdata\\anaconda3\\lib\\site-packages)\n",
      "WARNING: Ignoring invalid distribution -qdm (c:\\programdata\\anaconda3\\lib\\site-packages)\n",
      "WARNING: Ignoring invalid distribution -ryptography (c:\\programdata\\anaconda3\\lib\\site-packages)\n",
      "WARNING: Ignoring invalid distribution -sgpack (c:\\programdata\\anaconda3\\lib\\site-packages)\n"
     ]
    }
   ],
   "source": [
    "!pip install zhconv"
   ]
  },
  {
   "cell_type": "code",
   "execution_count": 4,
   "metadata": {},
   "outputs": [
    {
     "name": "stdout",
     "output_type": "stream",
     "text": [
      "处理完成！共处理 18167 条记录\n",
      "自动修复了 0 条缺少分隔符的记录\n",
      "新文件已保存到: h:\\project\\sound\\data\\en-cn\\cmn_processed.txt\n"
     ]
    }
   ],
   "source": [
    "import os\n",
    "from zhconv import convert  # 需要安装：pip install zhconv\n",
    "\n",
    "def process_file(input_path, output_path):\n",
    "    \"\"\"\n",
    "    处理翻译数据集文件：\n",
    "    1. 繁体中文转简体\n",
    "    2. 检查并修复缺少分隔符的记录\n",
    "    3. 生成新的处理后的文件\n",
    "    \"\"\"\n",
    "    fixed_count = 0\n",
    "    total_count = 0\n",
    "    \n",
    "    with open(input_path, 'r', encoding='utf-8') as infile, \\\n",
    "         open(output_path, 'w', encoding='utf-8') as outfile:\n",
    "        \n",
    "        for line in infile:\n",
    "            total_count += 1\n",
    "            line = line.strip()\n",
    "            \n",
    "            # 检查并修复缺少分隔符的记录\n",
    "            if '\\t' not in line and len(line) > 0:\n",
    "                # 尝试自动修复（假设英文在前，中文在后）\n",
    "                # 查找第一个中文字符的位置\n",
    "                first_cn_char = next((i for i, c in enumerate(line) \n",
    "                                     if '\\u4e00' <= c <= '\\u9fff'), None)\n",
    "                \n",
    "                if first_cn_char is not None and first_cn_char > 0:\n",
    "                    line = line[:first_cn_char] + '\\t' + line[first_cn_char:]\n",
    "                    fixed_count += 1\n",
    "                else:\n",
    "                    print(f\"无法自动修复的行(将被跳过): {line}\")\n",
    "                    continue\n",
    "            \n",
    "            # 分割中英文\n",
    "            parts = line.split('\\t')\n",
    "            if len(parts) != 2:\n",
    "                print(f\"格式错误(将被跳过): {line}\")\n",
    "                continue\n",
    "            \n",
    "            en, cn = parts\n",
    "            \n",
    "            # 繁体转简体\n",
    "            cn_simplified = convert(cn, 'zh-cn')\n",
    "            \n",
    "            # 写入新文件\n",
    "            outfile.write(f\"{en}\\t{cn_simplified}\\n\")\n",
    "    \n",
    "    print(f\"处理完成！共处理 {total_count} 条记录\")\n",
    "    print(f\"自动修复了 {fixed_count} 条缺少分隔符的记录\")\n",
    "    print(f\"新文件已保存到: {os.path.abspath(output_path)}\")\n",
    "\n",
    "if __name__ == '__main__':\n",
    "    input_file = 'h:\\\\project\\\\sound\\\\data\\\\en-cn\\\\cmn.txt'  # 原始文件路径\n",
    "    output_file = 'h:\\\\project\\\\sound\\\\data\\\\en-cn\\\\cmn_processed.txt'  # 新文件路径\n",
    "    \n",
    "    process_file(input_file, output_file)"
   ]
  }
 ],
 "metadata": {
  "kernelspec": {
   "display_name": "base",
   "language": "python",
   "name": "python3"
  },
  "language_info": {
   "codemirror_mode": {
    "name": "ipython",
    "version": 3
   },
   "file_extension": ".py",
   "mimetype": "text/x-python",
   "name": "python",
   "nbconvert_exporter": "python",
   "pygments_lexer": "ipython3",
   "version": "3.7.0"
  }
 },
 "nbformat": 4,
 "nbformat_minor": 2
}
